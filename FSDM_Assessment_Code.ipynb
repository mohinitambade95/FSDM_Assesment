{
 "cells": [
  {
   "cell_type": "markdown",
   "id": "4e27f550",
   "metadata": {},
   "source": []
  },
  {
   "cell_type": "markdown",
   "id": "be51628f",
   "metadata": {},
   "source": [
    "## Question 1"
   ]
  },
  {
   "cell_type": "markdown",
   "id": "8471b4c7",
   "metadata": {},
   "source": [
    "Write an efficient algorithm that searches for a value target in an m x n integer matrix. This matrix has the following properties:\n",
    "\n",
    "Integers in each row are sorted from right to left.\n",
    "\n",
    "The first integer of each row is greater than the last integer of the previous row.\n",
    "\n",
    "                              Example-: \n",
    "\n",
    "                                        Input: matrix = [[1,3,5,7],[10,11,16,20],[23,30,34,60]], target = 3\n",
    "\n",
    "                                         Output: True"
   ]
  },
  {
   "cell_type": "code",
   "execution_count": 134,
   "id": "641d0b1e",
   "metadata": {},
   "outputs": [],
   "source": [
    "def search_target(arr, target):\n",
    "    row = 0\n",
    "    col = len(arr[row]) - 1\n",
    "    while (row < len(arr) and col >= 0):\n",
    "        if (arr[row][col] == target):\n",
    "            return [row, col]\n",
    " \n",
    "        \n",
    "        if (arr[row][col] < target):\n",
    "            row += 1\n",
    " \n",
    "        \n",
    "        else:\n",
    "            col -= 1\n",
    " \n",
    "    return [-1, -1]"
   ]
  },
  {
   "cell_type": "code",
   "execution_count": 135,
   "id": "232e1643",
   "metadata": {},
   "outputs": [
    {
     "name": "stdout",
     "output_type": "stream",
     "text": [
      "Element found at index:  [0, 1]\n"
     ]
    }
   ],
   "source": [
    "matrix = [[1,3,5,7],[10,11,16,20],[23,30,34,60]]\n",
    "ans = search_target(matrix, 3)\n",
    "print(\"Element found at index: \", ans)"
   ]
  },
  {
   "cell_type": "markdown",
   "id": "9f40e3ce",
   "metadata": {},
   "source": [
    "##  Question 2"
   ]
  },
  {
   "cell_type": "markdown",
   "id": "7d6b60ab",
   "metadata": {},
   "source": [
    "2.  Write a program that takes a string as input, and counts the frequency of each word in the string, \n",
    "there might  be repeated characters in the string. Your task is to find the highest frequency and returns \n",
    "the length of the  highest-frequency word. \n",
    "\n",
    "Note - You have to write at least 2 additional test cases in which your program will run successfully and provide  an explanation for the same.  \n",
    "\n",
    "Example input - string = “write write write all the number from from from 1 to 100” \n",
    "\n",
    "Example output - 5 \n",
    "\n",
    "Explanation - From the given string we can note that the most frequent words are “write” and “from” and \n",
    "the maximum value of both the values is “write” and its corresponding length is 5 "
   ]
  },
  {
   "cell_type": "code",
   "execution_count": 43,
   "id": "70cc95b1",
   "metadata": {},
   "outputs": [],
   "source": [
    "def freq_count(text):\n",
    "    freq_dict = {}\n",
    "    # get the list of words from string\n",
    "    word_list = text.split()\n",
    "    \n",
    "    for word in word_list:\n",
    "        freq = word_list.count(word)\n",
    "        freq_dict[word] = freq\n",
    "        \n",
    "    # dictionary with keys as word and value as its frequency\n",
    "    print(freq_dict)\n",
    "    max_freq_value =  max(freq_dict.values())\n",
    "    print(max_freq_value)\n",
    "    \n",
    "    # get word with highest frequency\n",
    "    high_freq_words = [words for words in freq_dict if freq_dict[words]==max_freq_value]\n",
    "    print(f\"words with max frequency {high_freq_words}\")\n",
    "    \n",
    "    # get word with max len \n",
    "    len_words = [len(word) for word in high_freq_words]\n",
    "    return max(len_words)"
   ]
  },
  {
   "cell_type": "code",
   "execution_count": 44,
   "id": "fd280f49",
   "metadata": {},
   "outputs": [
    {
     "name": "stdout",
     "output_type": "stream",
     "text": [
      "{'write': 3, 'all': 1, 'the': 1, 'number': 1, 'from': 3, '1': 1, 'to': 1, '100': 1}\n",
      "3\n",
      "words with max frequency ['write', 'from']\n",
      "max length of highest frequency word is 5\n"
     ]
    }
   ],
   "source": [
    "input = \"write write write all the number from from from 1 to 100\"\n",
    "len_high_freq_word = freq_count(input)\n",
    "print(f\"max length of highest frequency word is {len_high_freq_word}\")"
   ]
  },
  {
   "cell_type": "code",
   "execution_count": 46,
   "id": "a6ada085",
   "metadata": {},
   "outputs": [
    {
     "name": "stdout",
     "output_type": "stream",
     "text": [
      "{'write': 3}\n",
      "3\n",
      "words with max frequency ['write']\n",
      "length of highest frequency word is 5\n"
     ]
    }
   ],
   "source": [
    "# input for test_case 1 : \n",
    "#\"write write write\"\n",
    "input1 = \"write write write\"\n",
    "len_high_freq_word = freq_count(input1)\n",
    "print(f\"length of highest frequency word is {len_high_freq_word}\")"
   ]
  },
  {
   "cell_type": "code",
   "execution_count": 50,
   "id": "1b9b931f",
   "metadata": {},
   "outputs": [
    {
     "name": "stdout",
     "output_type": "stream",
     "text": [
      "{'writeeee': 1, 'write': 2, 'from': 3, 'dtfy': 3}\n",
      "3\n",
      "words with max frequency ['from', 'dtfy']\n",
      "length of highest frequency word is 4\n"
     ]
    }
   ],
   "source": [
    "# input for test_case 1 : \n",
    "#\"writeeee write write from from from\"\n",
    "input2 = \"writeeee write write from from from dtfy dtfy dtfy\"\n",
    "len_high_freq_word = freq_count(input2)\n",
    "print(f\"length of highest frequency word is {len_high_freq_word}\")"
   ]
  },
  {
   "cell_type": "markdown",
   "id": "b32b772d",
   "metadata": {},
   "source": [
    "## EDA and Feature Engineering on Bengaluru housing dataset"
   ]
  },
  {
   "cell_type": "markdown",
   "id": "d94c280c",
   "metadata": {},
   "source": [
    "Train an SVM regressor on : Bengaluru housing dataset\n",
    "\n",
    "                  Must include in details:\n",
    "\n",
    "                           - EDA\n",
    "\n",
    "                            - Feature engineering \n",
    "\n"
   ]
  },
  {
   "cell_type": "code",
   "execution_count": 106,
   "id": "0b1fd808",
   "metadata": {},
   "outputs": [],
   "source": [
    "import pandas as pd\n",
    "import numpy as np\n",
    "import seaborn as sns\n",
    "import matplotlib.pyplot as plt"
   ]
  },
  {
   "cell_type": "code",
   "execution_count": 107,
   "id": "dd51622b",
   "metadata": {},
   "outputs": [],
   "source": [
    "data = pd.read_csv(\"Bengaluru_House_Data.csv\")"
   ]
  },
  {
   "cell_type": "code",
   "execution_count": 108,
   "id": "0b8cd49b",
   "metadata": {},
   "outputs": [
    {
     "data": {
      "text/plain": [
       "(13320, 9)"
      ]
     },
     "execution_count": 108,
     "metadata": {},
     "output_type": "execute_result"
    }
   ],
   "source": [
    "data.shape"
   ]
  },
  {
   "cell_type": "code",
   "execution_count": 109,
   "id": "6b6b7d0b",
   "metadata": {},
   "outputs": [
    {
     "data": {
      "text/html": [
       "<div>\n",
       "<style scoped>\n",
       "    .dataframe tbody tr th:only-of-type {\n",
       "        vertical-align: middle;\n",
       "    }\n",
       "\n",
       "    .dataframe tbody tr th {\n",
       "        vertical-align: top;\n",
       "    }\n",
       "\n",
       "    .dataframe thead th {\n",
       "        text-align: right;\n",
       "    }\n",
       "</style>\n",
       "<table border=\"1\" class=\"dataframe\">\n",
       "  <thead>\n",
       "    <tr style=\"text-align: right;\">\n",
       "      <th></th>\n",
       "      <th>area_type</th>\n",
       "      <th>availability</th>\n",
       "      <th>location</th>\n",
       "      <th>size</th>\n",
       "      <th>society</th>\n",
       "      <th>total_sqft</th>\n",
       "      <th>bath</th>\n",
       "      <th>balcony</th>\n",
       "      <th>price</th>\n",
       "    </tr>\n",
       "  </thead>\n",
       "  <tbody>\n",
       "    <tr>\n",
       "      <th>0</th>\n",
       "      <td>Super built-up  Area</td>\n",
       "      <td>19-Dec</td>\n",
       "      <td>Electronic City Phase II</td>\n",
       "      <td>2 BHK</td>\n",
       "      <td>Coomee</td>\n",
       "      <td>1056</td>\n",
       "      <td>2.0</td>\n",
       "      <td>1.0</td>\n",
       "      <td>39.07</td>\n",
       "    </tr>\n",
       "    <tr>\n",
       "      <th>1</th>\n",
       "      <td>Plot  Area</td>\n",
       "      <td>Ready To Move</td>\n",
       "      <td>Chikka Tirupathi</td>\n",
       "      <td>4 Bedroom</td>\n",
       "      <td>Theanmp</td>\n",
       "      <td>2600</td>\n",
       "      <td>5.0</td>\n",
       "      <td>3.0</td>\n",
       "      <td>120.00</td>\n",
       "    </tr>\n",
       "    <tr>\n",
       "      <th>2</th>\n",
       "      <td>Built-up  Area</td>\n",
       "      <td>Ready To Move</td>\n",
       "      <td>Uttarahalli</td>\n",
       "      <td>3 BHK</td>\n",
       "      <td>NaN</td>\n",
       "      <td>1440</td>\n",
       "      <td>2.0</td>\n",
       "      <td>3.0</td>\n",
       "      <td>62.00</td>\n",
       "    </tr>\n",
       "    <tr>\n",
       "      <th>3</th>\n",
       "      <td>Super built-up  Area</td>\n",
       "      <td>Ready To Move</td>\n",
       "      <td>Lingadheeranahalli</td>\n",
       "      <td>3 BHK</td>\n",
       "      <td>Soiewre</td>\n",
       "      <td>1521</td>\n",
       "      <td>3.0</td>\n",
       "      <td>1.0</td>\n",
       "      <td>95.00</td>\n",
       "    </tr>\n",
       "    <tr>\n",
       "      <th>4</th>\n",
       "      <td>Super built-up  Area</td>\n",
       "      <td>Ready To Move</td>\n",
       "      <td>Kothanur</td>\n",
       "      <td>2 BHK</td>\n",
       "      <td>NaN</td>\n",
       "      <td>1200</td>\n",
       "      <td>2.0</td>\n",
       "      <td>1.0</td>\n",
       "      <td>51.00</td>\n",
       "    </tr>\n",
       "  </tbody>\n",
       "</table>\n",
       "</div>"
      ],
      "text/plain": [
       "              area_type   availability                  location       size  \\\n",
       "0  Super built-up  Area         19-Dec  Electronic City Phase II      2 BHK   \n",
       "1            Plot  Area  Ready To Move          Chikka Tirupathi  4 Bedroom   \n",
       "2        Built-up  Area  Ready To Move               Uttarahalli      3 BHK   \n",
       "3  Super built-up  Area  Ready To Move        Lingadheeranahalli      3 BHK   \n",
       "4  Super built-up  Area  Ready To Move                  Kothanur      2 BHK   \n",
       "\n",
       "   society total_sqft  bath  balcony   price  \n",
       "0  Coomee        1056   2.0      1.0   39.07  \n",
       "1  Theanmp       2600   5.0      3.0  120.00  \n",
       "2      NaN       1440   2.0      3.0   62.00  \n",
       "3  Soiewre       1521   3.0      1.0   95.00  \n",
       "4      NaN       1200   2.0      1.0   51.00  "
      ]
     },
     "execution_count": 109,
     "metadata": {},
     "output_type": "execute_result"
    }
   ],
   "source": [
    "data.head()"
   ]
  },
  {
   "cell_type": "code",
   "execution_count": 110,
   "id": "69ad433e",
   "metadata": {},
   "outputs": [
    {
     "name": "stdout",
     "output_type": "stream",
     "text": [
      "<class 'pandas.core.frame.DataFrame'>\n",
      "RangeIndex: 13320 entries, 0 to 13319\n",
      "Data columns (total 9 columns):\n",
      " #   Column        Non-Null Count  Dtype  \n",
      "---  ------        --------------  -----  \n",
      " 0   area_type     13320 non-null  object \n",
      " 1   availability  13320 non-null  object \n",
      " 2   location      13319 non-null  object \n",
      " 3   size          13304 non-null  object \n",
      " 4   society       7818 non-null   object \n",
      " 5   total_sqft    13320 non-null  object \n",
      " 6   bath          13247 non-null  float64\n",
      " 7   balcony       12711 non-null  float64\n",
      " 8   price         13320 non-null  float64\n",
      "dtypes: float64(3), object(6)\n",
      "memory usage: 936.7+ KB\n"
     ]
    }
   ],
   "source": [
    "data.info()"
   ]
  },
  {
   "cell_type": "code",
   "execution_count": 111,
   "id": "40fae3c1",
   "metadata": {},
   "outputs": [
    {
     "data": {
      "text/plain": [
       "area_type       False\n",
       "availability    False\n",
       "location         True\n",
       "size             True\n",
       "society          True\n",
       "total_sqft      False\n",
       "bath             True\n",
       "balcony          True\n",
       "price           False\n",
       "dtype: bool"
      ]
     },
     "execution_count": 111,
     "metadata": {},
     "output_type": "execute_result"
    }
   ],
   "source": [
    "# Check if there are ay null values\n",
    "data.isnull().any()"
   ]
  },
  {
   "cell_type": "markdown",
   "id": "b00e3665",
   "metadata": {},
   "source": [
    "Feature location,size,society,bath,balcony contains null values"
   ]
  },
  {
   "cell_type": "code",
   "execution_count": 112,
   "id": "ed6d2d6a",
   "metadata": {},
   "outputs": [],
   "source": [
    "# Separate categorical and numeric features\n",
    "cat_cols  = [cols for cols in data.columns if data[cols].dtype==\"O\"]\n",
    "num_cols  = [cols for cols in data.columns if data[cols].dtype!=\"O\"]"
   ]
  },
  {
   "cell_type": "markdown",
   "id": "f42cc1b7",
   "metadata": {},
   "source": [
    "## Univariate Analysis of numeric features"
   ]
  },
  {
   "cell_type": "code",
   "execution_count": 113,
   "id": "39a1d8db",
   "metadata": {},
   "outputs": [
    {
     "data": {
      "image/png": "[encoded data removed]",
      "text/plain": [
       "<Figure size 360x360 with 1 Axes>"
      ]
     },
     "metadata": {
      "needs_background": "light"
     },
     "output_type": "display_data"
    },
    {
     "data": {
      "image/png": "[encoded data removed]",
      "text/plain": [
       "<Figure size 360x360 with 1 Axes>"
      ]
     },
     "metadata": {
      "needs_background": "light"
     },
     "output_type": "display_data"
    },
    {
     "data": {
      "image/png": "[encoded data removed]",
      "text/plain": [
       "<Figure size 360x360 with 1 Axes>"
      ]
     },
     "metadata": {
      "needs_background": "light"
     },
     "output_type": "display_data"
    }
   ],
   "source": [
    "def plot_distribution_plot(feature):\n",
    "    sns.displot(data=data,x= cols, kde = True)\n",
    "\n",
    "for cols in data[num_cols]:\n",
    "    plot_distribution_plot(cols)"
   ]
  },
  {
   "cell_type": "markdown",
   "id": "d94deb84",
   "metadata": {},
   "source": [
    "Numeric features are highly skewed."
   ]
  },
  {
   "cell_type": "markdown",
   "id": "54140615",
   "metadata": {},
   "source": [
    "## Univariate Analysis of categorical features"
   ]
  },
  {
   "cell_type": "code",
   "execution_count": 119,
   "id": "1eccb971",
   "metadata": {},
   "outputs": [
    {
     "data": {
      "text/html": [
       "<div>\n",
       "<style scoped>\n",
       "    .dataframe tbody tr th:only-of-type {\n",
       "        vertical-align: middle;\n",
       "    }\n",
       "\n",
       "    .dataframe tbody tr th {\n",
       "        vertical-align: top;\n",
       "    }\n",
       "\n",
       "    .dataframe thead th {\n",
       "        text-align: right;\n",
       "    }\n",
       "</style>\n",
       "<table border=\"1\" class=\"dataframe\">\n",
       "  <thead>\n",
       "    <tr style=\"text-align: right;\">\n",
       "      <th></th>\n",
       "      <th>area_type</th>\n",
       "      <th>availability</th>\n",
       "      <th>location</th>\n",
       "      <th>size</th>\n",
       "      <th>society</th>\n",
       "      <th>total_sqft</th>\n",
       "      <th>bath</th>\n",
       "      <th>balcony</th>\n",
       "      <th>price</th>\n",
       "    </tr>\n",
       "  </thead>\n",
       "  <tbody>\n",
       "    <tr>\n",
       "      <th>0</th>\n",
       "      <td>Super built-up  Area</td>\n",
       "      <td>19-Dec</td>\n",
       "      <td>Electronic City Phase II</td>\n",
       "      <td>2 BHK</td>\n",
       "      <td>Coomee</td>\n",
       "      <td>1056</td>\n",
       "      <td>2.0</td>\n",
       "      <td>1.0</td>\n",
       "      <td>39.07</td>\n",
       "    </tr>\n",
       "    <tr>\n",
       "      <th>1</th>\n",
       "      <td>Plot  Area</td>\n",
       "      <td>Ready To Move</td>\n",
       "      <td>Chikka Tirupathi</td>\n",
       "      <td>4 Bedroom</td>\n",
       "      <td>Theanmp</td>\n",
       "      <td>2600</td>\n",
       "      <td>5.0</td>\n",
       "      <td>3.0</td>\n",
       "      <td>120.00</td>\n",
       "    </tr>\n",
       "    <tr>\n",
       "      <th>2</th>\n",
       "      <td>Built-up  Area</td>\n",
       "      <td>Ready To Move</td>\n",
       "      <td>Uttarahalli</td>\n",
       "      <td>3 BHK</td>\n",
       "      <td>GrrvaGr</td>\n",
       "      <td>1440</td>\n",
       "      <td>2.0</td>\n",
       "      <td>3.0</td>\n",
       "      <td>62.00</td>\n",
       "    </tr>\n",
       "    <tr>\n",
       "      <th>3</th>\n",
       "      <td>Super built-up  Area</td>\n",
       "      <td>Ready To Move</td>\n",
       "      <td>Lingadheeranahalli</td>\n",
       "      <td>3 BHK</td>\n",
       "      <td>Soiewre</td>\n",
       "      <td>1521</td>\n",
       "      <td>3.0</td>\n",
       "      <td>1.0</td>\n",
       "      <td>95.00</td>\n",
       "    </tr>\n",
       "    <tr>\n",
       "      <th>4</th>\n",
       "      <td>Super built-up  Area</td>\n",
       "      <td>Ready To Move</td>\n",
       "      <td>Kothanur</td>\n",
       "      <td>2 BHK</td>\n",
       "      <td>GrrvaGr</td>\n",
       "      <td>1200</td>\n",
       "      <td>2.0</td>\n",
       "      <td>1.0</td>\n",
       "      <td>51.00</td>\n",
       "    </tr>\n",
       "  </tbody>\n",
       "</table>\n",
       "</div>"
      ],
      "text/plain": [
       "              area_type   availability                  location       size  \\\n",
       "0  Super built-up  Area         19-Dec  Electronic City Phase II      2 BHK   \n",
       "1            Plot  Area  Ready To Move          Chikka Tirupathi  4 Bedroom   \n",
       "2        Built-up  Area  Ready To Move               Uttarahalli      3 BHK   \n",
       "3  Super built-up  Area  Ready To Move        Lingadheeranahalli      3 BHK   \n",
       "4  Super built-up  Area  Ready To Move                  Kothanur      2 BHK   \n",
       "\n",
       "   society total_sqft  bath  balcony   price  \n",
       "0  Coomee        1056   2.0      1.0   39.07  \n",
       "1  Theanmp       2600   5.0      3.0  120.00  \n",
       "2  GrrvaGr       1440   2.0      3.0   62.00  \n",
       "3  Soiewre       1521   3.0      1.0   95.00  \n",
       "4  GrrvaGr       1200   2.0      1.0   51.00  "
      ]
     },
     "execution_count": 119,
     "metadata": {},
     "output_type": "execute_result"
    }
   ],
   "source": [
    "data.head()"
   ]
  },
  {
   "cell_type": "markdown",
   "id": "7e23624f",
   "metadata": {},
   "source": [
    "## handling null values"
   ]
  },
  {
   "cell_type": "code",
   "execution_count": 116,
   "id": "abf1c43a",
   "metadata": {},
   "outputs": [],
   "source": [
    "# Fill nulls in categorical features with mode\n",
    "for cols in cat_cols:\n",
    "    data[cols].fillna(data[cols].mode()[0], inplace=True)"
   ]
  },
  {
   "cell_type": "code",
   "execution_count": 117,
   "id": "3eff49da",
   "metadata": {},
   "outputs": [],
   "source": [
    "# Fill nulls in numeric features with avearge value\n",
    "for cols in num_cols:\n",
    "    data[cols].fillna(data[cols].mean(), inplace=True)"
   ]
  },
  {
   "cell_type": "markdown",
   "id": "cd636c91",
   "metadata": {},
   "source": [
    "## feature encoding"
   ]
  },
  {
   "cell_type": "code",
   "execution_count": 73,
   "id": "c6be15c1",
   "metadata": {},
   "outputs": [
    {
     "data": {
      "text/plain": [
       "Super built-up  Area    8790\n",
       "Built-up  Area          2418\n",
       "Plot  Area              2025\n",
       "Carpet  Area              87\n",
       "Name: area_type, dtype: int64"
      ]
     },
     "execution_count": 73,
     "metadata": {},
     "output_type": "execute_result"
    }
   ],
   "source": [
    "data['area_type'].value_counts()"
   ]
  },
  {
   "cell_type": "code",
   "execution_count": 76,
   "id": "31055c83",
   "metadata": {},
   "outputs": [
    {
     "data": {
      "text/plain": [
       "Ready To Move    10581\n",
       "18-Dec             307\n",
       "18-May             295\n",
       "18-Apr             271\n",
       "18-Aug             200\n",
       "                 ...  \n",
       "15-Aug               1\n",
       "17-Jan               1\n",
       "16-Nov               1\n",
       "16-Jan               1\n",
       "14-Jul               1\n",
       "Name: availability, Length: 81, dtype: int64"
      ]
     },
     "execution_count": 76,
     "metadata": {},
     "output_type": "execute_result"
    }
   ],
   "source": [
    "data['availability'].value_counts()"
   ]
  },
  {
   "cell_type": "code",
   "execution_count": 78,
   "id": "2d4df294",
   "metadata": {},
   "outputs": [],
   "source": [
    "# Use Target encoding\n",
    "# Replace categorical feature with average of target for each category\n",
    "def target_encoding(cols):\n",
    "    # group the feature based on category and get mean price of each category\n",
    "    group_mean = data.groupby(cols)['price'].mean().to_dict()\n",
    "    # map the category with mean\n",
    "    data[cols] = data[cols].map(group_mean)\n",
    "\n",
    "for cols in cat_cols:\n",
    "    target_encoding(cols)"
   ]
  },
  {
   "cell_type": "code",
   "execution_count": 79,
   "id": "20cb6a1b",
   "metadata": {},
   "outputs": [
    {
     "data": {
      "text/html": [
       "<div>\n",
       "<style scoped>\n",
       "    .dataframe tbody tr th:only-of-type {\n",
       "        vertical-align: middle;\n",
       "    }\n",
       "\n",
       "    .dataframe tbody tr th {\n",
       "        vertical-align: top;\n",
       "    }\n",
       "\n",
       "    .dataframe thead th {\n",
       "        text-align: right;\n",
       "    }\n",
       "</style>\n",
       "<table border=\"1\" class=\"dataframe\">\n",
       "  <thead>\n",
       "    <tr style=\"text-align: right;\">\n",
       "      <th></th>\n",
       "      <th>area_type</th>\n",
       "      <th>availability</th>\n",
       "      <th>location</th>\n",
       "      <th>size</th>\n",
       "      <th>society</th>\n",
       "      <th>total_sqft</th>\n",
       "      <th>bath</th>\n",
       "      <th>balcony</th>\n",
       "      <th>price</th>\n",
       "    </tr>\n",
       "  </thead>\n",
       "  <tbody>\n",
       "    <tr>\n",
       "      <th>0</th>\n",
       "      <td>92.971757</td>\n",
       "      <td>111.379351</td>\n",
       "      <td>48.316667</td>\n",
       "      <td>57.555944</td>\n",
       "      <td>53.810000</td>\n",
       "      <td>76.755833</td>\n",
       "      <td>2.0</td>\n",
       "      <td>1.0</td>\n",
       "      <td>39.07</td>\n",
       "    </tr>\n",
       "    <tr>\n",
       "      <th>1</th>\n",
       "      <td>208.495486</td>\n",
       "      <td>115.179137</td>\n",
       "      <td>115.015882</td>\n",
       "      <td>265.067379</td>\n",
       "      <td>121.615385</td>\n",
       "      <td>229.958333</td>\n",
       "      <td>5.0</td>\n",
       "      <td>3.0</td>\n",
       "      <td>120.00</td>\n",
       "    </tr>\n",
       "    <tr>\n",
       "      <th>2</th>\n",
       "      <td>104.285498</td>\n",
       "      <td>115.179137</td>\n",
       "      <td>61.252527</td>\n",
       "      <td>104.953519</td>\n",
       "      <td>127.209858</td>\n",
       "      <td>106.263478</td>\n",
       "      <td>2.0</td>\n",
       "      <td>3.0</td>\n",
       "      <td>62.00</td>\n",
       "    </tr>\n",
       "    <tr>\n",
       "      <th>3</th>\n",
       "      <td>92.971757</td>\n",
       "      <td>115.179137</td>\n",
       "      <td>115.348261</td>\n",
       "      <td>104.953519</td>\n",
       "      <td>116.895455</td>\n",
       "      <td>85.550000</td>\n",
       "      <td>3.0</td>\n",
       "      <td>1.0</td>\n",
       "      <td>95.00</td>\n",
       "    </tr>\n",
       "    <tr>\n",
       "      <th>4</th>\n",
       "      <td>92.971757</td>\n",
       "      <td>115.179137</td>\n",
       "      <td>95.630303</td>\n",
       "      <td>57.555944</td>\n",
       "      <td>127.209858</td>\n",
       "      <td>110.794923</td>\n",
       "      <td>2.0</td>\n",
       "      <td>1.0</td>\n",
       "      <td>51.00</td>\n",
       "    </tr>\n",
       "  </tbody>\n",
       "</table>\n",
       "</div>"
      ],
      "text/plain": [
       "    area_type  availability    location        size     society  total_sqft  \\\n",
       "0   92.971757    111.379351   48.316667   57.555944   53.810000   76.755833   \n",
       "1  208.495486    115.179137  115.015882  265.067379  121.615385  229.958333   \n",
       "2  104.285498    115.179137   61.252527  104.953519  127.209858  106.263478   \n",
       "3   92.971757    115.179137  115.348261  104.953519  116.895455   85.550000   \n",
       "4   92.971757    115.179137   95.630303   57.555944  127.209858  110.794923   \n",
       "\n",
       "   bath  balcony   price  \n",
       "0   2.0      1.0   39.07  \n",
       "1   5.0      3.0  120.00  \n",
       "2   2.0      3.0   62.00  \n",
       "3   3.0      1.0   95.00  \n",
       "4   2.0      1.0   51.00  "
      ]
     },
     "execution_count": 79,
     "metadata": {},
     "output_type": "execute_result"
    }
   ],
   "source": [
    "data.head()"
   ]
  },
  {
   "cell_type": "code",
   "execution_count": 89,
   "id": "0f3da864",
   "metadata": {},
   "outputs": [],
   "source": [
    "X = data.drop(['price'],axis=1)\n",
    "Y = data['price']"
   ]
  },
  {
   "cell_type": "code",
   "execution_count": 90,
   "id": "1eaedb19",
   "metadata": {},
   "outputs": [],
   "source": [
    "from sklearn.model_selection import train_test_split\n",
    "x_train,x_test,y_train,y_test = train_test_split(X,Y,test_size=0.3)"
   ]
  },
  {
   "cell_type": "code",
   "execution_count": 91,
   "id": "221730b1",
   "metadata": {},
   "outputs": [
    {
     "data": {
      "text/plain": [
       "(9324, 8)"
      ]
     },
     "execution_count": 91,
     "metadata": {},
     "output_type": "execute_result"
    }
   ],
   "source": [
    "x_train.shape"
   ]
  },
  {
   "cell_type": "code",
   "execution_count": 92,
   "id": "fdda7342",
   "metadata": {},
   "outputs": [
    {
     "data": {
      "text/plain": [
       "(3996, 8)"
      ]
     },
     "execution_count": 92,
     "metadata": {},
     "output_type": "execute_result"
    }
   ],
   "source": [
    "x_test.shape"
   ]
  },
  {
   "cell_type": "markdown",
   "id": "c377d7aa",
   "metadata": {},
   "source": [
    "## Feature scaling"
   ]
  },
  {
   "cell_type": "code",
   "execution_count": 93,
   "id": "40ae86ab",
   "metadata": {},
   "outputs": [],
   "source": [
    "# Using standard scaler to scale features\n",
    "from sklearn.preprocessing import StandardScaler\n",
    "scaler = StandardScaler()\n",
    "x_train_scaled  = scaler.fit_transform(x_train)\n",
    "x_test_scaled = scaler.transform(x_test)"
   ]
  },
  {
   "cell_type": "code",
   "execution_count": 124,
   "id": "a856116c",
   "metadata": {},
   "outputs": [
    {
     "data": {
      "text/plain": [
       "array([[-1.99818837e-01,  1.28257405e+01, -4.53065007e-01, ...,\n",
       "        -6.05616080e-03,  2.52540418e-01,  1.77462919e+00],\n",
       "       [-1.99818837e-01,  1.34555648e-01,  5.52431884e-02, ...,\n",
       "         1.06550638e-01,  2.52540418e-01,  1.77462919e+00],\n",
       "       [ 2.36454245e+00,  1.34555648e-01,  1.56117784e-01, ...,\n",
       "        -1.85762039e-01, -5.28274944e-01, -7.37003931e-01],\n",
       "       ...,\n",
       "       [-1.99818837e-01,  1.34555648e-01, -5.58428544e-01, ...,\n",
       "        -4.76796739e-01, -5.28274944e-01, -1.99282049e+00],\n",
       "       [-4.78223245e-01,  1.34555648e-01, -4.78115115e-01, ...,\n",
       "        -3.14254345e-01,  2.52540418e-01,  1.77462919e+00],\n",
       "       [-1.99818837e-01,  1.34555648e-01, -4.62870554e-01, ...,\n",
       "        -5.75496819e-01, -5.28274944e-01, -7.37003931e-01]])"
      ]
     },
     "execution_count": 124,
     "metadata": {},
     "output_type": "execute_result"
    }
   ],
   "source": [
    "x_train_scaled"
   ]
  },
  {
   "cell_type": "markdown",
   "id": "21e55359",
   "metadata": {},
   "source": [
    "## Model Training"
   ]
  },
  {
   "cell_type": "code",
   "execution_count": 94,
   "id": "27e2e021",
   "metadata": {},
   "outputs": [],
   "source": [
    "from sklearn.svm import SVR"
   ]
  },
  {
   "cell_type": "code",
   "execution_count": 95,
   "id": "9668169f",
   "metadata": {},
   "outputs": [],
   "source": [
    "model = SVR()"
   ]
  },
  {
   "cell_type": "code",
   "execution_count": 96,
   "id": "838c948f",
   "metadata": {},
   "outputs": [
    {
     "data": {
      "text/plain": [
       "SVR()"
      ]
     },
     "execution_count": 96,
     "metadata": {},
     "output_type": "execute_result"
    }
   ],
   "source": [
    "model.fit(x_train_scaled,y_train)"
   ]
  },
  {
   "cell_type": "code",
   "execution_count": 98,
   "id": "b877d99c",
   "metadata": {},
   "outputs": [],
   "source": [
    "y_train_pred = model.predict(x_train_scaled)"
   ]
  },
  {
   "cell_type": "code",
   "execution_count": 99,
   "id": "d519880b",
   "metadata": {},
   "outputs": [],
   "source": [
    "y_test_pred = model.predict(x_test_scaled)"
   ]
  },
  {
   "cell_type": "code",
   "execution_count": 100,
   "id": "3b162139",
   "metadata": {},
   "outputs": [],
   "source": [
    "from sklearn.metrics import mean_squared_error, r2_score\n",
    "rmse_train = mean_squared_error(y_train,y_train_pred,squared=False)\n",
    "rmse_test = mean_squared_error(y_test,y_test_pred,squared=False)\n",
    "r2_score_train = r2_score(y_train,y_train_pred)\n",
    "r2_score_test = r2_score(y_test,y_test_pred)"
   ]
  },
  {
   "cell_type": "code",
   "execution_count": 101,
   "id": "f4b11e47",
   "metadata": {},
   "outputs": [
    {
     "name": "stdout",
     "output_type": "stream",
     "text": [
      "RMSE  with SVR() on train data is 122.1424988963997\n",
      "RMSE  with SVR() on test data is 137.9799126736727\n",
      "R square  with SVR() on train data is 0.2897484648265898\n",
      "R square  with SVR() on test data is 0.23709107015161635\n"
     ]
    }
   ],
   "source": [
    "print(f'RMSE  with {model} on train data is {rmse_train}')\n",
    "print(f'RMSE  with {model} on test data is {rmse_test}')\n",
    "print(f'R square  with {model} on train data is {r2_score_train}')\n",
    "print(f'R square  with {model} on test data is {r2_score_test}')"
   ]
  },
  {
   "cell_type": "code",
   "execution_count": 125,
   "id": "9028ee74",
   "metadata": {},
   "outputs": [],
   "source": [
    "from sklearn.model_selection import GridSearchCV \n",
    "param_grid={\"C\":[0.1,1,10,100,50,500]}\n",
    "grid=GridSearchCV(SVR(),param_grid=param_grid,cv=5,verbose=3,n_jobs=-1)"
   ]
  },
  {
   "cell_type": "code",
   "execution_count": 126,
   "id": "e52bb305",
   "metadata": {},
   "outputs": [
    {
     "name": "stdout",
     "output_type": "stream",
     "text": [
      "Fitting 5 folds for each of 6 candidates, totalling 30 fits\n"
     ]
    },
    {
     "data": {
      "text/plain": [
       "GridSearchCV(cv=5, estimator=SVR(), n_jobs=-1,\n",
       "             param_grid={'C': [0.1, 1, 10, 100, 50, 500]}, verbose=3)"
      ]
     },
     "execution_count": 126,
     "metadata": {},
     "output_type": "execute_result"
    }
   ],
   "source": [
    "grid.fit(x_train_scaled,y_train)"
   ]
  },
  {
   "cell_type": "code",
   "execution_count": 129,
   "id": "155875a7",
   "metadata": {},
   "outputs": [
    {
     "data": {
      "text/plain": [
       "{'C': 500}"
      ]
     },
     "execution_count": 129,
     "metadata": {},
     "output_type": "execute_result"
    }
   ],
   "source": [
    "grid.best_params_"
   ]
  },
  {
   "cell_type": "code",
   "execution_count": 130,
   "id": "4ea760e2",
   "metadata": {},
   "outputs": [],
   "source": [
    "model_new=SVR(C=500)"
   ]
  },
  {
   "cell_type": "code",
   "execution_count": 132,
   "id": "c1e6ab61",
   "metadata": {},
   "outputs": [
    {
     "data": {
      "text/plain": [
       "SVR(C=500)"
      ]
     },
     "execution_count": 132,
     "metadata": {},
     "output_type": "execute_result"
    }
   ],
   "source": [
    "model_new.fit(x_train_scaled,y_train)"
   ]
  },
  {
   "cell_type": "code",
   "execution_count": 133,
   "id": "875eee85",
   "metadata": {},
   "outputs": [],
   "source": [
    "y_train_pred = model_new.predict(x_train_scaled)\n",
    "y_test_pred = model_new.predict(x_test_scaled)"
   ]
  },
  {
   "cell_type": "code",
   "execution_count": null,
   "id": "e2d95cc2",
   "metadata": {},
   "outputs": [],
   "source": [
    "rmse_train = mean_squared_error(y_train,y_train_pred,squared=False)\n",
    "rmse_test = mean_squared_error(y_test,y_test_pred,squared=False)\n",
    "r2_score_train = r2_score(y_train,y_train_pred)\n",
    "r2_score_test = r2_score(y_test,y_test_pred)"
   ]
  }
 ],
 "metadata": {
  "kernelspec": {
   "display_name": "Python 3 (ipykernel)",
   "language": "python",
   "name": "python3"
  },
  "language_info": {
   "codemirror_mode": {
    "name": "ipython",
    "version": 3
   },
   "file_extension": ".py",
   "mimetype": "text/x-python",
   "name": "python",
   "nbconvert_exporter": "python",
   "pygments_lexer": "ipython3",
   "version": "3.9.12"
  }
 },
 "nbformat": 4,
 "nbformat_minor": 5
}
